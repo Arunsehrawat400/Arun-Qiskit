{
  "nbformat": 4,
  "nbformat_minor": 0,
  "metadata": {
    "colab": {
      "provenance": [],
      "authorship_tag": "ABX9TyN2S4ut8wNKQ8omtIZLNyIx",
      "include_colab_link": true
    },
    "kernelspec": {
      "name": "python3",
      "display_name": "Python 3"
    },
    "language_info": {
      "name": "python"
    }
  },
  "cells": [
    {
      "cell_type": "markdown",
      "metadata": {
        "id": "view-in-github",
        "colab_type": "text"
      },
      "source": [
        "<a href=\"https://colab.research.google.com/github/Arunsehrawat400/Arun-Qiskit/blob/main/Lattice_Model.ipynb\" target=\"_parent\"><img src=\"https://colab.research.google.com/assets/colab-badge.svg\" alt=\"Open In Colab\"/></a>"
      ]
    },
    {
      "cell_type": "code",
      "execution_count": 4,
      "metadata": {
        "colab": {
          "base_uri": "https://localhost:8080/"
        },
        "id": "nweYvHtjpZF2",
        "outputId": "3d4a8e5b-cdfc-43ec-ac42-b1bb257c9079"
      },
      "outputs": [
        {
          "output_type": "stream",
          "name": "stdout",
          "text": [
            "\u001b[2K   \u001b[90m━━━━━━━━━━━━━━━━━━━━━━━━━━━━━━━━━━━━━━━━\u001b[0m \u001b[32m12.4/12.4 MB\u001b[0m \u001b[31m87.7 MB/s\u001b[0m eta \u001b[36m0:00:00\u001b[0m\n",
            "\u001b[?25h"
          ]
        }
      ],
      "source": [
        "!pip install -q qiskit qiskit[visualization] qiskit_aer\n",
        "%matplotlib inline"
      ]
    },
    {
      "cell_type": "code",
      "source": [],
      "metadata": {
        "colab": {
          "base_uri": "https://localhost:8080/",
          "height": 455
        },
        "id": "-KMdGo5RpijC",
        "outputId": "34c06552-d8fc-4a22-accc-b5b0952bc07a"
      },
      "execution_count": 18,
      "outputs": [
        {
          "output_type": "stream",
          "name": "stdout",
          "text": [
            "{'01': 172, '11': 44, '00': 583, '10': 201}\n"
          ]
        },
        {
          "output_type": "execute_result",
          "data": {
            "text/plain": [
              "<Figure size 640x480 with 1 Axes>"
            ],
            "image/png": "[encoded data removed]"
          },
          "metadata": {},
          "execution_count": 18
        }
      ]
    },
    {
      "cell_type": "code",
      "source": [],
      "metadata": {
        "id": "XdsnFxN4Xa5d"
      },
      "execution_count": null,
      "outputs": []
    },
    {
      "cell_type": "code",
      "source": [
        "!pip uninstall qiskit qiskit_algorithms qiskit_nature -y\n"
      ],
      "metadata": {
        "colab": {
          "base_uri": "https://localhost:8080/"
        },
        "id": "pLiBFT_M0u5g",
        "outputId": "8bfc5937-a4cf-4634-d704-6f66bf2e64bf"
      },
      "execution_count": 1,
      "outputs": [
        {
          "output_type": "stream",
          "name": "stdout",
          "text": [
            "Found existing installation: qiskit 1.0.1\n",
            "Uninstalling qiskit-1.0.1:\n",
            "  Successfully uninstalled qiskit-1.0.1\n",
            "\u001b[33mWARNING: Skipping qiskit_algorithms as it is not installed.\u001b[0m\u001b[33m\n",
            "\u001b[0m\u001b[33mWARNING: Skipping qiskit_nature as it is not installed.\u001b[0m\u001b[33m\n",
            "\u001b[0m"
          ]
        }
      ]
    },
    {
      "cell_type": "code",
      "source": [
        "!pip install qiskit==1.0.1\n",
        "!pip install qiskit_algorithms==0.3.0\n",
        "!pip install qiskit_nature==0.7.2\n"
      ],
      "metadata": {
        "colab": {
          "base_uri": "https://localhost:8080/"
        },
        "id": "l2a0JXuL0u-u",
        "outputId": "a2b57e3d-b833-4d7f-eee5-335cd520194a"
      },
      "execution_count": 2,
      "outputs": [
        {
          "output_type": "stream",
          "name": "stdout",
          "text": [
            "Collecting qiskit==1.0.1\n",
            "  Using cached qiskit-1.0.1-cp38-abi3-manylinux_2_17_x86_64.manylinux2014_x86_64.whl.metadata (12 kB)\n",
            "Requirement already satisfied: rustworkx>=0.14.0 in /usr/local/lib/python3.10/dist-packages (from qiskit==1.0.1) (0.15.1)\n",
            "Requirement already satisfied: numpy<2,>=1.17 in /usr/local/lib/python3.10/dist-packages (from qiskit==1.0.1) (1.26.4)\n",
            "Requirement already satisfied: scipy>=1.5 in /usr/local/lib/python3.10/dist-packages (from qiskit==1.0.1) (1.13.1)\n",
            "Requirement already satisfied: sympy>=1.3 in /usr/local/lib/python3.10/dist-packages (from qiskit==1.0.1) (1.13.1)\n",
            "Requirement already satisfied: dill>=0.3 in /usr/local/lib/python3.10/dist-packages (from qiskit==1.0.1) (0.3.9)\n",
            "Requirement already satisfied: python-dateutil>=2.8.0 in /usr/local/lib/python3.10/dist-packages (from qiskit==1.0.1) (2.8.2)\n",
            "Requirement already satisfied: stevedore>=3.0.0 in /usr/local/lib/python3.10/dist-packages (from qiskit==1.0.1) (5.3.0)\n",
            "Requirement already satisfied: typing-extensions in /usr/local/lib/python3.10/dist-packages (from qiskit==1.0.1) (4.12.2)\n",
            "Requirement already satisfied: symengine>=0.11 in /usr/local/lib/python3.10/dist-packages (from qiskit==1.0.1) (0.13.0)\n",
            "Requirement already satisfied: six>=1.5 in /usr/local/lib/python3.10/dist-packages (from python-dateutil>=2.8.0->qiskit==1.0.1) (1.16.0)\n",
            "Requirement already satisfied: pbr>=2.0.0 in /usr/local/lib/python3.10/dist-packages (from stevedore>=3.0.0->qiskit==1.0.1) (6.1.0)\n",
            "Requirement already satisfied: mpmath<1.4,>=1.1.0 in /usr/local/lib/python3.10/dist-packages (from sympy>=1.3->qiskit==1.0.1) (1.3.0)\n",
            "Using cached qiskit-1.0.1-cp38-abi3-manylinux_2_17_x86_64.manylinux2014_x86_64.whl (5.6 MB)\n",
            "Installing collected packages: qiskit\n",
            "Successfully installed qiskit-1.0.1\n",
            "Collecting qiskit_algorithms==0.3.0\n",
            "  Downloading qiskit_algorithms-0.3.0-py3-none-any.whl.metadata (4.2 kB)\n",
            "Requirement already satisfied: qiskit>=0.44 in /usr/local/lib/python3.10/dist-packages (from qiskit_algorithms==0.3.0) (1.0.1)\n",
            "Requirement already satisfied: scipy>=1.4 in /usr/local/lib/python3.10/dist-packages (from qiskit_algorithms==0.3.0) (1.13.1)\n",
            "Requirement already satisfied: numpy>=1.17 in /usr/local/lib/python3.10/dist-packages (from qiskit_algorithms==0.3.0) (1.26.4)\n",
            "Requirement already satisfied: rustworkx>=0.14.0 in /usr/local/lib/python3.10/dist-packages (from qiskit>=0.44->qiskit_algorithms==0.3.0) (0.15.1)\n",
            "Requirement already satisfied: sympy>=1.3 in /usr/local/lib/python3.10/dist-packages (from qiskit>=0.44->qiskit_algorithms==0.3.0) (1.13.1)\n",
            "Requirement already satisfied: dill>=0.3 in /usr/local/lib/python3.10/dist-packages (from qiskit>=0.44->qiskit_algorithms==0.3.0) (0.3.9)\n",
            "Requirement already satisfied: python-dateutil>=2.8.0 in /usr/local/lib/python3.10/dist-packages (from qiskit>=0.44->qiskit_algorithms==0.3.0) (2.8.2)\n",
            "Requirement already satisfied: stevedore>=3.0.0 in /usr/local/lib/python3.10/dist-packages (from qiskit>=0.44->qiskit_algorithms==0.3.0) (5.3.0)\n",
            "Requirement already satisfied: typing-extensions in /usr/local/lib/python3.10/dist-packages (from qiskit>=0.44->qiskit_algorithms==0.3.0) (4.12.2)\n",
            "Requirement already satisfied: symengine>=0.11 in /usr/local/lib/python3.10/dist-packages (from qiskit>=0.44->qiskit_algorithms==0.3.0) (0.13.0)\n",
            "Requirement already satisfied: six>=1.5 in /usr/local/lib/python3.10/dist-packages (from python-dateutil>=2.8.0->qiskit>=0.44->qiskit_algorithms==0.3.0) (1.16.0)\n",
            "Requirement already satisfied: pbr>=2.0.0 in /usr/local/lib/python3.10/dist-packages (from stevedore>=3.0.0->qiskit>=0.44->qiskit_algorithms==0.3.0) (6.1.0)\n",
            "Requirement already satisfied: mpmath<1.4,>=1.1.0 in /usr/local/lib/python3.10/dist-packages (from sympy>=1.3->qiskit>=0.44->qiskit_algorithms==0.3.0) (1.3.0)\n",
            "Downloading qiskit_algorithms-0.3.0-py3-none-any.whl (308 kB)\n",
            "\u001b[2K   \u001b[90m━━━━━━━━━━━━━━━━━━━━━━━━━━━━━━━━━━━━━━━━\u001b[0m \u001b[32m308.6/308.6 kB\u001b[0m \u001b[31m2.9 MB/s\u001b[0m eta \u001b[36m0:00:00\u001b[0m\n",
            "\u001b[?25hInstalling collected packages: qiskit_algorithms\n",
            "Successfully installed qiskit_algorithms-0.3.0\n",
            "Collecting qiskit_nature==0.7.2\n",
            "  Downloading qiskit_nature-0.7.2-py3-none-any.whl.metadata (8.0 kB)\n",
            "Requirement already satisfied: qiskit>=0.44 in /usr/local/lib/python3.10/dist-packages (from qiskit_nature==0.7.2) (1.0.1)\n",
            "Requirement already satisfied: qiskit-algorithms>=0.2.1 in /usr/local/lib/python3.10/dist-packages (from qiskit_nature==0.7.2) (0.3.0)\n",
            "Requirement already satisfied: scipy>=1.4 in /usr/local/lib/python3.10/dist-packages (from qiskit_nature==0.7.2) (1.13.1)\n",
            "Requirement already satisfied: numpy>=1.17 in /usr/local/lib/python3.10/dist-packages (from qiskit_nature==0.7.2) (1.26.4)\n",
            "Requirement already satisfied: psutil>=5 in /usr/local/lib/python3.10/dist-packages (from qiskit_nature==0.7.2) (5.9.5)\n",
            "Requirement already satisfied: setuptools>=40.1.0 in /usr/local/lib/python3.10/dist-packages (from qiskit_nature==0.7.2) (75.1.0)\n",
            "Requirement already satisfied: typing-extensions in /usr/local/lib/python3.10/dist-packages (from qiskit_nature==0.7.2) (4.12.2)\n",
            "Requirement already satisfied: h5py in /usr/local/lib/python3.10/dist-packages (from qiskit_nature==0.7.2) (3.11.0)\n",
            "Requirement already satisfied: rustworkx>=0.12 in /usr/local/lib/python3.10/dist-packages (from qiskit_nature==0.7.2) (0.15.1)\n",
            "Requirement already satisfied: sympy>=1.3 in /usr/local/lib/python3.10/dist-packages (from qiskit>=0.44->qiskit_nature==0.7.2) (1.13.1)\n",
            "Requirement already satisfied: dill>=0.3 in /usr/local/lib/python3.10/dist-packages (from qiskit>=0.44->qiskit_nature==0.7.2) (0.3.9)\n",
            "Requirement already satisfied: python-dateutil>=2.8.0 in /usr/local/lib/python3.10/dist-packages (from qiskit>=0.44->qiskit_nature==0.7.2) (2.8.2)\n",
            "Requirement already satisfied: stevedore>=3.0.0 in /usr/local/lib/python3.10/dist-packages (from qiskit>=0.44->qiskit_nature==0.7.2) (5.3.0)\n",
            "Requirement already satisfied: symengine>=0.11 in /usr/local/lib/python3.10/dist-packages (from qiskit>=0.44->qiskit_nature==0.7.2) (0.13.0)\n",
            "Requirement already satisfied: six>=1.5 in /usr/local/lib/python3.10/dist-packages (from python-dateutil>=2.8.0->qiskit>=0.44->qiskit_nature==0.7.2) (1.16.0)\n",
            "Requirement already satisfied: pbr>=2.0.0 in /usr/local/lib/python3.10/dist-packages (from stevedore>=3.0.0->qiskit>=0.44->qiskit_nature==0.7.2) (6.1.0)\n",
            "Requirement already satisfied: mpmath<1.4,>=1.1.0 in /usr/local/lib/python3.10/dist-packages (from sympy>=1.3->qiskit>=0.44->qiskit_nature==0.7.2) (1.3.0)\n",
            "Downloading qiskit_nature-0.7.2-py3-none-any.whl (2.2 MB)\n",
            "\u001b[2K   \u001b[90m━━━━━━━━━━━━━━━━━━━━━━━━━━━━━━━━━━━━━━━━\u001b[0m \u001b[32m2.2/2.2 MB\u001b[0m \u001b[31m19.7 MB/s\u001b[0m eta \u001b[36m0:00:00\u001b[0m\n",
            "\u001b[?25hInstalling collected packages: qiskit_nature\n",
            "Successfully installed qiskit_nature-0.7.2\n"
          ]
        }
      ]
    },
    {
      "cell_type": "code",
      "source": [
        "import qiskit\n",
        "import qiskit_algorithms\n",
        "import qiskit_nature\n",
        "\n",
        "print(\"Qiskit version:\", qiskit.__version__)\n",
        "print(\"Qiskit Algorithms version:\", qiskit_algorithms.__version__)\n",
        "print(\"Qiskit Nature version:\", qiskit_nature.__version__)\n",
        "\n"
      ],
      "metadata": {
        "colab": {
          "base_uri": "https://localhost:8080/"
        },
        "id": "ZwdE70rs0_vE",
        "outputId": "063da533-723d-4ae2-c919-d3e11faa2fb3"
      },
      "execution_count": 3,
      "outputs": [
        {
          "output_type": "stream",
          "name": "stdout",
          "text": [
            "Qiskit version: 1.0.1\n",
            "Qiskit Algorithms version: 0.3.0\n",
            "Qiskit Nature version: 0.7.2\n"
          ]
        }
      ]
    },
    {
      "cell_type": "markdown",
      "source": [
        "### **1. Ground State Energy**"
      ],
      "metadata": {
        "id": "IYQI1WyyXbz7"
      }
    },
    {
      "cell_type": "code",
      "source": [
        "from qiskit_nature.second_q.hamiltonians.lattices import LineLattice, BoundaryCondition\n",
        "from qiskit_nature.second_q.hamiltonians import FermiHubbardModel\n",
        "from qiskit_nature.second_q.problems import LatticeModelProblem\n",
        "from qiskit_algorithms import NumPyMinimumEigensolver\n",
        "from qiskit_nature.second_q.mappers import JordanWignerMapper\n",
        "from qiskit_nature.second_q.algorithms import GroundStateEigensolver\n",
        "\n",
        "# Define lattice parameters\n",
        "num_nodes = 5  # Small structure, manageable for quick calculations\n",
        "boundary_condition = BoundaryCondition.OPEN\n",
        "t = -1.0  # Interaction parameter (hopping term)\n",
        "v = 0.0   # Onsite potential\n",
        "u = 2.0   # Interaction parameter U (Coulomb repulsion)\n",
        "\n",
        "# Setup lattice and Fermi-Hubbard model\n",
        "line_lattice = LineLattice(num_nodes=num_nodes, boundary_condition=boundary_condition)\n",
        "line_lattice.draw()\n",
        "fhm = FermiHubbardModel(\n",
        "    line_lattice.uniform_parameters(\n",
        "        uniform_interaction=t,\n",
        "        uniform_onsite_potential=v\n",
        "    ),\n",
        "    onsite_interaction=u\n",
        ")\n",
        "\n",
        "# Problem setup and solving\n",
        "lmp = LatticeModelProblem(fhm)\n",
        "numpy_solver = NumPyMinimumEigensolver()\n",
        "qubit_mapper = JordanWignerMapper()\n",
        "calc = GroundStateEigensolver(qubit_mapper, numpy_solver)\n",
        "res = calc.solve(lmp)\n",
        "\n",
        "# Display result\n",
        "print(\"Ground State Energy:\", res.groundenergy)\n"
      ],
      "metadata": {
        "colab": {
          "base_uri": "https://localhost:8080/",
          "height": 534
        },
        "id": "nKPPxrD_Xjls",
        "outputId": "280a9100-dd5b-44e5-da0b-40005f445a72"
      },
      "execution_count": 3,
      "outputs": [
        {
          "output_type": "stream",
          "name": "stdout",
          "text": [
            "Ground State Energy: -5.072377396570935\n"
          ]
        },
        {
          "output_type": "display_data",
          "data": {
            "text/plain": [
              "<Figure size 640x480 with 1 Axes>"
            ],
            "image/png": "[encoded data removed]"
          },
          "metadata": {}
        }
      ]
    },
    {
      "cell_type": "markdown",
      "source": [
        "## for metals\n",
        "\n",
        "t = -1.0 # (moderate hopping term)\n",
        "\n",
        "v = 0.0 # (low onsite potential)\n",
        "\n",
        "u = 0.5 #  (low electron-electron interaction)\n",
        "### Ground State Energy: -5.072377396570941\n",
        "\n",
        "## for insulators\n",
        "t = -0.5 # (reduced hopping term)\n",
        "\n",
        "v = 1.0 # (higher onsite potential)\n",
        "\n",
        "u = 3.0 # (strong electron-electron interaction)\n",
        "### Ground State Energy: 2.958775864788829e-16\n",
        "\n",
        "## for super-conducting behaviour\n",
        "\n",
        "t = -1.0 # (significant hopping)\n",
        "\n",
        "v = 0.1 # (small onsite potential)\n",
        "\n",
        "u = 1.0 # (moderate interaction)\n",
        "\n",
        "### Ground State Energy: -4.328187466752253\n",
        "\n",
        "## for semiconductors\n",
        "t = -0.8 # (moderate hopping term)\n",
        "\n",
        "v = 0.5 # (moderate onsite potential)\n",
        "\n",
        "u = 1.5 # (moderate electron-electron interaction)\n",
        "\n",
        "### Ground State Energy: -1.5896463443086668"
      ],
      "metadata": {
        "id": "zPBdPr4obYew"
      }
    },
    {
      "cell_type": "markdown",
      "source": [
        "# ***plot of GS energies of different materials***"
      ],
      "metadata": {
        "id": "_i4XfDMrcW6e"
      }
    },
    {
      "cell_type": "code",
      "source": [
        "import matplotlib.pyplot as plt\n",
        "\n",
        "# Data for the materials\n",
        "materials = ['Metal', 'Insulator', 'Superconductor', 'Semiconductor']\n",
        "ground_state_energies = [-5.072, 0.0, -4.328, -1.590]  # Approximated to 3 decimal places for clarity\n",
        "parameters = [\n",
        "    {'t': -1.0, 'v': 0.0, 'u': 0.5},\n",
        "    {'t': -0.5, 'v': 1.0, 'u': 3.0},\n",
        "    {'t': -1.0, 'v': 0.1, 'u': 1.0},\n",
        "    {'t': -0.8, 'v': 0.5, 'u': 1.5}\n",
        "]\n",
        "\n",
        "# Create a bar plot\n",
        "plt.figure(figsize=(10, 6))\n",
        "bars = plt.bar(materials, ground_state_energies, color=['skyblue', 'salmon', 'lightgreen', 'orange'])\n",
        "\n",
        "# Annotate each bar with (t, v, u) values and ground state energy\n",
        "for i, bar in enumerate(bars):\n",
        "    height = bar.get_height()\n",
        "    plt.text(\n",
        "        bar.get_x() + bar.get_width() / 2,\n",
        "        height,\n",
        "        f\"t={parameters[i]['t']}\\nv={parameters[i]['v']}\\nu={parameters[i]['u']}\\nE={height:.3f}\",\n",
        "        ha='center',\n",
        "        va='bottom' if height < 0 else 'top',\n",
        "        color='black'\n",
        "    )\n",
        "\n",
        "# Add labels and title\n",
        "plt.xlabel(\"Material Type\")\n",
        "plt.ylabel(\"Ground State Energy\")\n",
        "plt.title(\"Ground State Energy for Different Material Behaviors\")\n",
        "plt.ylim(min(ground_state_energies) - 1, max(ground_state_energies) + 1)\n",
        "\n",
        "# Show plot\n",
        "plt.show()\n"
      ],
      "metadata": {
        "colab": {
          "base_uri": "https://localhost:8080/",
          "height": 564
        },
        "id": "h-oJJs-1aJvi",
        "outputId": "eb17b4d1-2c40-4d46-b5ef-3f301cef887b"
      },
      "execution_count": 7,
      "outputs": [
        {
          "output_type": "display_data",
          "data": {
            "text/plain": [
              "<Figure size 1000x600 with 1 Axes>"
            ],
            "image/png": "[encoded data removed]"
          },
          "metadata": {}
        }
      ]
    },
    {
      "cell_type": "markdown",
      "source": [],
      "metadata": {
        "id": "xSjoo9H2UBBg"
      }
    },
    {
      "cell_type": "code",
      "source": [],
      "metadata": {
        "id": "XeYX1jICStim"
      },
      "execution_count": 7,
      "outputs": []
    },
    {
      "cell_type": "markdown",
      "source": [
        "# **2. Parameter Sweep for Phase Transitions**"
      ],
      "metadata": {
        "id": "hU-djRo_Nigb"
      }
    },
    {
      "cell_type": "code",
      "source": [
        "# Define parameter range for u (onsite interaction)\n",
        "u_values = np.linspace(0, 5, 20)\n",
        "ground_state_energies = []\n",
        "\n",
        "# Loop through different u values and calculate ground state energy\n",
        "for u in u_values:\n",
        "    fhm = FermiHubbardModel(\n",
        "        line_lattice.uniform_parameters(\n",
        "            uniform_interaction=t,\n",
        "            uniform_onsite_potential=v\n",
        "        ),\n",
        "        onsite_interaction=u\n",
        "    )\n",
        "    lmp = LatticeModelProblem(fhm)\n",
        "    res = calc.solve(lmp)\n",
        "    ground_state_energies.append(res.groundenergy)\n",
        "\n",
        "# Plot ground state energy vs. onsite interaction (u)\n",
        "plt.plot(u_values, ground_state_energies, marker='o')\n",
        "plt.xlabel(\"Onsite Interaction (u)\")\n",
        "plt.ylabel(\"Ground State Energy\")\n",
        "plt.title(\"Phase Transition Analysis by Varying u\")\n",
        "plt.show()"
      ],
      "metadata": {
        "colab": {
          "base_uri": "https://localhost:8080/",
          "height": 472
        },
        "id": "LHYMms9npz5W",
        "outputId": "a26640ce-5568-46c5-cf3f-9d4429a22540"
      },
      "execution_count": 40,
      "outputs": [
        {
          "output_type": "display_data",
          "data": {
            "text/plain": [
              "<Figure size 640x480 with 1 Axes>"
            ],
            "image/png": "[encoded data removed]"
          },
          "metadata": {}
        }
      ]
    },
    {
      "cell_type": "markdown",
      "source": [
        "# **3. Exploring Lattice Size and Geometry**\n"
      ],
      "metadata": {
        "id": "3u8MTBk9NXYa"
      }
    },
    {
      "cell_type": "code",
      "source": [
        "# Increase lattice size and switch to periodic boundary conditions\n",
        "num_nodes = 10\n",
        "boundary_condition = BoundaryCondition.PERIODIC\n",
        "line_lattice_large = LineLattice(num_nodes=num_nodes, boundary_condition=boundary_condition)\n",
        "\n",
        "# Recalculate ground state energy with larger lattice\n",
        "fhm_large = FermiHubbardModel(\n",
        "    line_lattice_large.uniform_parameters(\n",
        "        uniform_interaction=t,\n",
        "        uniform_onsite_potential=v\n",
        "    ),\n",
        "    onsite_interaction=u\n",
        ")\n",
        "lmp_large = LatticeModelProblem(fhm_large)\n",
        "res_large = calc.solve(lmp_large)\n",
        "\n",
        "print(\"Ground State Energy for Larger Periodic Lattice:\", res_large.groundenergy)\n"
      ],
      "metadata": {
        "colab": {
          "base_uri": "https://localhost:8080/"
        },
        "id": "9rx5ituPCV5e",
        "outputId": "1fbe36b4-6740-48e9-e2b1-550ce121b2bd"
      },
      "execution_count": 36,
      "outputs": [
        {
          "output_type": "stream",
          "name": "stdout",
          "text": [
            "Ground State Energy for Larger Periodic Lattice: -12.944271909999113\n"
          ]
        }
      ]
    },
    {
      "cell_type": "markdown",
      "source": [
        "# **4. Electron Density Calculations**"
      ],
      "metadata": {
        "id": "HUCbbDu6eNSB"
      }
    },
    {
      "cell_type": "code",
      "source": [
        "from qiskit.quantum_info import Pauli, SparsePauliOp\n",
        "from qiskit.primitives import Sampler\n",
        "import numpy as np\n",
        "\n",
        "# Define lattice parameters (example)\n",
        "num_nodes = 5  # Adjust this as necessary\n",
        "\n",
        "# Define operator for electron density on each site\n",
        "density_operators = []\n",
        "for i in range(num_nodes):\n",
        "    # Create a Pauli operator for density at site i\n",
        "    # Correct the construction of the SparsePauliOp\n",
        "    density_op = SparsePauliOp.from_list([(Pauli('I' * i + 'Z' + 'I' * (num_nodes - i - 1)), 1.0)])\n",
        "    density_operators.append(density_op)\n",
        "\n",
        "# Initialize sampler to calculate expectation values\n",
        "# Ensure you define your backend for the sampler\n",
        "backend = 'your_backend_here'  # Replace with your actual backend\n",
        "sampler = Sampler(backend)\n",
        "\n",
        "# Calculate expectation values (electron densities) on each site\n",
        "electron_densities = []\n",
        "for op in density_operators:\n",
        "    # Sample the expectation value using the sampler\n",
        "    # Note: Expectation value may need to be calculated in a different way depending on your setup\n",
        "    # This line may require modifications based on the Sampler API\n",
        "    expectation = sampler.expectation_value(op, res.eigenstate)  # Correct this if necessary\n",
        "    electron_densities.append(expectation.real)\n",
        "\n",
        "print(\"Electron Densities:\", electron_densities)\n"
      ],
      "metadata": {
        "colab": {
          "base_uri": "https://localhost:8080/",
          "height": 346
        },
        "id": "cCTzTyqIK1c9",
        "outputId": "04dddb99-6735-4f7f-9b9a-99a2c97d1b23"
      },
      "execution_count": 30,
      "outputs": [
        {
          "output_type": "error",
          "ename": "ValueError",
          "evalue": "setting an array element with a sequence",
          "traceback": [
            "\u001b[0;31m---------------------------------------------------------------------------\u001b[0m",
            "\u001b[0;31mValueError\u001b[0m                                Traceback (most recent call last)",
            "\u001b[0;32m<ipython-input-30-5bb6383b9786>\u001b[0m in \u001b[0;36m<cell line: 10>\u001b[0;34m()\u001b[0m\n\u001b[1;32m     11\u001b[0m     \u001b[0;31m# Create a Pauli operator for density at site i\u001b[0m\u001b[0;34m\u001b[0m\u001b[0;34m\u001b[0m\u001b[0m\n\u001b[1;32m     12\u001b[0m     \u001b[0;31m# Correct the construction of the SparsePauliOp\u001b[0m\u001b[0;34m\u001b[0m\u001b[0;34m\u001b[0m\u001b[0m\n\u001b[0;32m---> 13\u001b[0;31m     \u001b[0mdensity_op\u001b[0m \u001b[0;34m=\u001b[0m \u001b[0mSparsePauliOp\u001b[0m\u001b[0;34m.\u001b[0m\u001b[0mfrom_list\u001b[0m\u001b[0;34m(\u001b[0m\u001b[0;34m[\u001b[0m\u001b[0;34m(\u001b[0m\u001b[0mPauli\u001b[0m\u001b[0;34m(\u001b[0m\u001b[0;34m'I'\u001b[0m \u001b[0;34m*\u001b[0m \u001b[0mi\u001b[0m \u001b[0;34m+\u001b[0m \u001b[0;34m'Z'\u001b[0m \u001b[0;34m+\u001b[0m \u001b[0;34m'I'\u001b[0m \u001b[0;34m*\u001b[0m \u001b[0;34m(\u001b[0m\u001b[0mnum_nodes\u001b[0m \u001b[0;34m-\u001b[0m \u001b[0mi\u001b[0m \u001b[0;34m-\u001b[0m \u001b[0;36m1\u001b[0m\u001b[0;34m)\u001b[0m\u001b[0;34m)\u001b[0m\u001b[0;34m,\u001b[0m \u001b[0;36m1.0\u001b[0m\u001b[0;34m)\u001b[0m\u001b[0;34m]\u001b[0m\u001b[0;34m)\u001b[0m\u001b[0;34m\u001b[0m\u001b[0;34m\u001b[0m\u001b[0m\n\u001b[0m\u001b[1;32m     14\u001b[0m     \u001b[0mdensity_operators\u001b[0m\u001b[0;34m.\u001b[0m\u001b[0mappend\u001b[0m\u001b[0;34m(\u001b[0m\u001b[0mdensity_op\u001b[0m\u001b[0;34m)\u001b[0m\u001b[0;34m\u001b[0m\u001b[0;34m\u001b[0m\u001b[0m\n\u001b[1;32m     15\u001b[0m \u001b[0;34m\u001b[0m\u001b[0m\n",
            "\u001b[0;32m/usr/local/lib/python3.10/dist-packages/qiskit/quantum_info/operators/symplectic/sparse_pauli_op.py\u001b[0m in \u001b[0;36mfrom_list\u001b[0;34m(obj, dtype, num_qubits)\u001b[0m\n\u001b[1;32m    820\u001b[0m         \u001b[0mlabels\u001b[0m \u001b[0;34m=\u001b[0m \u001b[0mnp\u001b[0m\u001b[0;34m.\u001b[0m\u001b[0mzeros\u001b[0m\u001b[0;34m(\u001b[0m\u001b[0msize\u001b[0m\u001b[0;34m,\u001b[0m \u001b[0mdtype\u001b[0m\u001b[0;34m=\u001b[0m\u001b[0;34mf\"<U{num_qubits}\"\u001b[0m\u001b[0;34m)\u001b[0m\u001b[0;34m\u001b[0m\u001b[0;34m\u001b[0m\u001b[0m\n\u001b[1;32m    821\u001b[0m         \u001b[0;32mfor\u001b[0m \u001b[0mi\u001b[0m\u001b[0;34m,\u001b[0m \u001b[0mitem\u001b[0m \u001b[0;32min\u001b[0m \u001b[0menumerate\u001b[0m\u001b[0;34m(\u001b[0m\u001b[0mobj\u001b[0m\u001b[0;34m)\u001b[0m\u001b[0;34m:\u001b[0m\u001b[0;34m\u001b[0m\u001b[0;34m\u001b[0m\u001b[0m\n\u001b[0;32m--> 822\u001b[0;31m             \u001b[0mlabels\u001b[0m\u001b[0;34m[\u001b[0m\u001b[0mi\u001b[0m\u001b[0;34m]\u001b[0m \u001b[0;34m=\u001b[0m \u001b[0mitem\u001b[0m\u001b[0;34m[\u001b[0m\u001b[0;36m0\u001b[0m\u001b[0;34m]\u001b[0m\u001b[0;34m\u001b[0m\u001b[0;34m\u001b[0m\u001b[0m\n\u001b[0m\u001b[1;32m    823\u001b[0m             \u001b[0mcoeffs\u001b[0m\u001b[0;34m[\u001b[0m\u001b[0mi\u001b[0m\u001b[0;34m]\u001b[0m \u001b[0;34m=\u001b[0m \u001b[0mitem\u001b[0m\u001b[0;34m[\u001b[0m\u001b[0;36m1\u001b[0m\u001b[0;34m]\u001b[0m\u001b[0;34m\u001b[0m\u001b[0;34m\u001b[0m\u001b[0m\n\u001b[1;32m    824\u001b[0m \u001b[0;34m\u001b[0m\u001b[0m\n",
            "\u001b[0;31mValueError\u001b[0m: setting an array element with a sequence"
          ]
        }
      ]
    },
    {
      "cell_type": "markdown",
      "source": [
        "# **5. Excited State Calculations**"
      ],
      "metadata": {
        "id": "ZiDZogLre4_A"
      }
    },
    {
      "cell_type": "markdown",
      "source": [],
      "metadata": {
        "id": "CKHNgwtvOIhH"
      }
    },
    {
      "cell_type": "code",
      "source": [
        "from qiskit.quantum_info import SparsePauliOp\n",
        "from qiskit_nature.operators.second_quantization import FermionicHamiltonian\n",
        "\n",
        "# Example Hamiltonian (you need to modify this based on your system)\n",
        "hamiltonian_terms = {\n",
        "    'X': 1.0,   # Pauli term\n",
        "    'Y': 0.5,\n",
        "    'Z': 0.1,\n",
        "    # Add more terms as needed\n",
        "}\n",
        "fhm_secondq = FermionicHamiltonian(hamiltonian_terms)\n",
        "\n",
        "from qiskit_algorithms import NumPyEigensolver\n",
        "\n",
        "# Set up eigensolver for calculating multiple energy states\n",
        "eigensolver = NumPyEigensolver(k=2)  # Retrieve ground and first excited state\n",
        "eigenvalues = eigensolver.compute_eigenvalues(fhm_secondq).eigenvalues\n",
        "\n",
        "# Display energy gap between ground and first excited state\n",
        "ground_state_energy = eigenvalues[0].real\n",
        "first_excited_energy = eigenvalues[1].real\n",
        "energy_gap = first_excited_energy - ground_state_energy\n",
        "\n",
        "print(\"Ground State Energy:\", ground_state_energy)\n",
        "print(\"First Excited State Energy:\", first_excited_energy)\n",
        "print(\"Energy Gap:\", energy_gap)\n",
        "\n",
        "\n"
      ],
      "metadata": {
        "colab": {
          "base_uri": "https://localhost:8080/",
          "height": 219
        },
        "id": "8v60wZJBOHVA",
        "outputId": "3e5a1b6a-4d3f-47bb-c0c8-7316c8cfd34f"
      },
      "execution_count": 9,
      "outputs": [
        {
          "output_type": "error",
          "ename": "NameError",
          "evalue": "name 'FermionicHamiltonian' is not defined",
          "traceback": [
            "\u001b[0;31m---------------------------------------------------------------------------\u001b[0m",
            "\u001b[0;31mNameError\u001b[0m                                 Traceback (most recent call last)",
            "\u001b[0;32m<ipython-input-9-64eb464c2e92>\u001b[0m in \u001b[0;36m<cell line: 11>\u001b[0;34m()\u001b[0m\n\u001b[1;32m      9\u001b[0m     \u001b[0;31m# Add more terms as needed\u001b[0m\u001b[0;34m\u001b[0m\u001b[0;34m\u001b[0m\u001b[0m\n\u001b[1;32m     10\u001b[0m }\n\u001b[0;32m---> 11\u001b[0;31m \u001b[0mfhm_secondq\u001b[0m \u001b[0;34m=\u001b[0m \u001b[0mFermionicHamiltonian\u001b[0m\u001b[0;34m(\u001b[0m\u001b[0mhamiltonian_terms\u001b[0m\u001b[0;34m)\u001b[0m\u001b[0;34m\u001b[0m\u001b[0;34m\u001b[0m\u001b[0m\n\u001b[0m\u001b[1;32m     12\u001b[0m \u001b[0;34m\u001b[0m\u001b[0m\n\u001b[1;32m     13\u001b[0m \u001b[0;32mfrom\u001b[0m \u001b[0mqiskit_algorithms\u001b[0m \u001b[0;32mimport\u001b[0m \u001b[0mNumPyEigensolver\u001b[0m\u001b[0;34m\u001b[0m\u001b[0;34m\u001b[0m\u001b[0m\n",
            "\u001b[0;31mNameError\u001b[0m: name 'FermionicHamiltonian' is not defined"
          ]
        }
      ]
    },
    {
      "cell_type": "code",
      "source": [],
      "metadata": {
        "id": "UneMYfo4OHgs"
      },
      "execution_count": null,
      "outputs": []
    },
    {
      "cell_type": "markdown",
      "source": [
        "# **6. Ground state Energy for 2-Dimension Material**"
      ],
      "metadata": {
        "id": "hMqSXbREGthn"
      }
    },
    {
      "cell_type": "code",
      "source": [
        "from qiskit_nature.second_q.hamiltonians.lattices import SquareLattice, BoundaryCondition\n",
        "from qiskit_nature.second_q.hamiltonians import FermiHubbardModel\n",
        "from qiskit_nature.second_q.problems import LatticeModelProblem\n",
        "from qiskit_algorithms import NumPyMinimumEigensolver\n",
        "from qiskit_nature.second_q.mappers import JordanWignerMapper\n",
        "from qiskit_nature.second_q.algorithms import GroundStateEigensolver\n",
        "\n",
        "# Define lattice parameters\n",
        "rows = 2\n",
        "cols = 2\n",
        "boundary_condition = BoundaryCondition.OPEN\n",
        "\n",
        "t = -1.0  # Interaction parameter (hopping term)\n",
        "v = 0.0    # Onsite potential\n",
        "u = 2.0    # Interaction parameter U (Coulomb repulsion)\n",
        "\n",
        "# Setup square lattice and Fermi-Hubbard model\n",
        "square_lattice = SquareLattice(rows=rows, cols=cols, boundary_condition=boundary_condition)\n",
        "square_lattice.draw()\n",
        "fhm = FermiHubbardModel(\n",
        "    square_lattice.uniform_parameters(\n",
        "        uniform_interaction=t,\n",
        "        uniform_onsite_potential=v\n",
        "    ),\n",
        "    onsite_interaction=u\n",
        ")\n",
        "\n",
        "# Problem setup and solving\n",
        "lmp = LatticeModelProblem(fhm)\n",
        "numpy_solver = NumPyMinimumEigensolver()\n",
        "qubit_mapper = JordanWignerMapper()\n",
        "calc = GroundStateEigensolver(qubit_mapper, numpy_solver)\n",
        "res = calc.solve(lmp)\n",
        "\n",
        "# Display result\n",
        "print(\"Ground State Energy:\", res.groundenergy)"
      ],
      "metadata": {
        "colab": {
          "base_uri": "https://localhost:8080/",
          "height": 534
        },
        "id": "EhMzNdeYjDQw",
        "outputId": "d6c0ed85-11aa-4485-fbb5-c7130ba25f14"
      },
      "execution_count": 8,
      "outputs": [
        {
          "output_type": "stream",
          "name": "stdout",
          "text": [
            "Ground State Energy: -3.6272130052966642\n"
          ]
        },
        {
          "output_type": "display_data",
          "data": {
            "text/plain": [
              "<Figure size 640x480 with 1 Axes>"
            ],
            "image/png": "[encoded data removed]"
          },
          "metadata": {}
        }
      ]
    },
    {
      "cell_type": "code",
      "source": [],
      "metadata": {
        "id": "MlOGh6FRdP6Z"
      },
      "execution_count": null,
      "outputs": []
    }
  ]
}